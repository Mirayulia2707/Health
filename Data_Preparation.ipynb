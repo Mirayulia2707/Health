{
  "nbformat": 4,
  "nbformat_minor": 0,
  "metadata": {
    "colab": {
      "provenance": [],
      "authorship_tag": "ABX9TyNvbERRXQK2RnHFy1ohuGRe",
      "include_colab_link": true
    },
    "kernelspec": {
      "name": "python3",
      "display_name": "Python 3"
    },
    "language_info": {
      "name": "python"
    }
  },
  "cells": [
    {
      "cell_type": "markdown",
      "metadata": {
        "id": "view-in-github",
        "colab_type": "text"
      },
      "source": [
        "<a href=\"https://colab.research.google.com/github/Mirayulia2707/Health/blob/main/Data_Preparation.ipynb\" target=\"_parent\"><img src=\"https://colab.research.google.com/assets/colab-badge.svg\" alt=\"Open In Colab\"/></a>"
      ]
    },
    {
      "cell_type": "markdown",
      "source": [],
      "metadata": {
        "id": "-IOGmoFBX9tB"
      }
    },
    {
      "cell_type": "markdown",
      "source": [
        "# 1.Data Preparation"
      ],
      "metadata": {
        "id": "kqCXv7gnYWGi"
      }
    },
    {
      "cell_type": "markdown",
      "source": [
        "##Missing Value"
      ],
      "metadata": {
        "id": "YKWJMkj6YjZU"
      }
    },
    {
      "cell_type": "code",
      "source": [],
      "metadata": {
        "id": "koN_StRYeuWq"
      },
      "execution_count": null,
      "outputs": []
    }
  ]
}